{
  "nbformat": 4,
  "nbformat_minor": 0,
  "metadata": {
    "colab": {
      "provenance": [],
      "include_colab_link": true
    },
    "kernelspec": {
      "name": "python3",
      "display_name": "Python 3"
    },
    "language_info": {
      "name": "python"
    }
  },
  "cells": [
    {
      "cell_type": "markdown",
      "metadata": {
        "id": "view-in-github",
        "colab_type": "text"
      },
      "source": [
        "<a href=\"https://colab.research.google.com/github/josejulianhidayat/Clustering_dan_Klasifikasi-marketing_campaign/blob/main/%5BKlasifikasi%5D_Submission_Akhir_BMLP_Jose_Julian_Hidayat.ipynb\" target=\"_parent\"><img src=\"https://colab.research.google.com/assets/colab-badge.svg\" alt=\"Open In Colab\"/></a>"
      ]
    },
    {
      "cell_type": "markdown",
      "source": [
        "# **1. Import Library**"
      ],
      "metadata": {
        "id": "fKADPWcFKlj3"
      }
    },
    {
      "cell_type": "markdown",
      "source": [
        "Pada tahap ini, Anda perlu mengimpor beberapa pustaka (library) Python yang dibutuhkan untuk analisis data dan pembangunan model machine learning."
      ],
      "metadata": {
        "id": "LgA3ERnVn84N"
      }
    },
    {
      "cell_type": "code",
      "source": [
        "# Pustaka untuk manipulasi data\n",
        "import pandas as pd\n",
        "import numpy as np  # Opsional, hanya jika Anda membutuhkan operasi numerik\n",
        "\n",
        "# Pustaka untuk membangun model machine learning\n",
        "from sklearn.ensemble import RandomForestClassifier\n",
        "from sklearn.model_selection import train_test_split\n",
        "from sklearn.metrics import classification_report, accuracy_score\n",
        "\n",
        "# Pustaka untuk visualisasi (opsional)\n",
        "import matplotlib.pyplot as plt\n",
        "import seaborn as sns\n"
      ],
      "metadata": {
        "id": "BlmvjLY9M4Yj"
      },
      "execution_count": 15,
      "outputs": []
    },
    {
      "cell_type": "markdown",
      "source": [
        "# **2. Memuat Dataset dari Hasil Clustering**"
      ],
      "metadata": {
        "id": "f3YIEnAFKrKL"
      }
    },
    {
      "cell_type": "markdown",
      "source": [
        "Memuat dataset hasil clustering dari file CSV ke dalam variabel DataFrame."
      ],
      "metadata": {
        "id": "Ey3ItwTen_7E"
      }
    },
    {
      "cell_type": "code",
      "source": [
        "\n",
        "\n",
        "# Path file CSV hasil clustering\n",
        "file_path = \"clustered_data.csv\"\n",
        "\n",
        "# Memuat dataset ke dalam DataFrame\n",
        "data = pd.read_csv(file_path)\n",
        "\n",
        "# Menampilkan beberapa baris pertama untuk verifikasi\n",
        "print(\"Dataset Hasil Clustering:\")\n",
        "print(data.head())\n",
        "\n",
        "# Informasi tentang dataset\n",
        "print(\"\\nInformasi Dataset:\")\n",
        "data.info()\n"
      ],
      "metadata": {
        "id": "GHCGNTyrM5fS",
        "colab": {
          "base_uri": "https://localhost:8080/"
        },
        "outputId": "e7244df0-c862-4fad-93bf-b172cf10b91e"
      },
      "execution_count": 16,
      "outputs": [
        {
          "output_type": "stream",
          "name": "stdout",
          "text": [
            "Dataset Hasil Clustering:\n",
            "         ID  Year_Birth    Income   Kidhome  Teenhome Dt_Customer   Recency  \\\n",
            "0 -1.053058   -1.235733 -0.235454  1.032559  0.906934  2014-03-08 -0.383664   \n",
            "1  0.181716    1.268149 -1.022355  1.032559 -0.929894  2014-02-10 -0.798086   \n",
            "2  0.180176    1.351612 -0.750388  1.032559 -0.929894  2013-05-08 -0.590875   \n",
            "3 -1.108512    1.184687 -0.034215  1.032559 -0.929894  2013-11-15 -1.316114   \n",
            "4 -1.603592    0.600447 -1.787205 -0.825218 -0.929894  2012-11-13  0.341574   \n",
            "\n",
            "   MntWines  MntFruits  MntMeatProducts  ...  Education_Master  Education_PhD  \\\n",
            "0 -0.870479  -0.636301        -0.713225  ...             False          False   \n",
            "1 -0.870479  -0.560857        -0.651187  ...             False          False   \n",
            "2 -0.677327  -0.409969        -0.491658  ...             False           True   \n",
            "3 -0.888309  -0.535709        -0.713225  ...             False          False   \n",
            "4 -0.885337  -0.259081        -0.691069  ...             False          False   \n",
            "\n",
            "   Marital_Status_Divorced  Marital_Status_Married  Marital_Status_Single  \\\n",
            "0                    False                   False                   True   \n",
            "1                    False                   False                  False   \n",
            "2                    False                    True                  False   \n",
            "3                    False                    True                  False   \n",
            "4                    False                    True                  False   \n",
            "\n",
            "   Marital_Status_Together  Marital_Status_Widow  Cluster      PCA1      PCA2  \n",
            "0                    False                 False        0  1.604946  0.412571  \n",
            "1                     True                 False        1 -1.409134 -0.726473  \n",
            "2                    False                 False        1 -1.492137 -0.482650  \n",
            "3                    False                 False        1 -1.236489 -0.370542  \n",
            "4                    False                 False        1 -0.811075  0.853177  \n",
            "\n",
            "[5 rows x 41 columns]\n",
            "\n",
            "Informasi Dataset:\n",
            "<class 'pandas.core.frame.DataFrame'>\n",
            "RangeIndex: 838 entries, 0 to 837\n",
            "Data columns (total 41 columns):\n",
            " #   Column                   Non-Null Count  Dtype  \n",
            "---  ------                   --------------  -----  \n",
            " 0   ID                       838 non-null    float64\n",
            " 1   Year_Birth               838 non-null    float64\n",
            " 2   Income                   838 non-null    float64\n",
            " 3   Kidhome                  838 non-null    float64\n",
            " 4   Teenhome                 838 non-null    float64\n",
            " 5   Dt_Customer              838 non-null    object \n",
            " 6   Recency                  838 non-null    float64\n",
            " 7   MntWines                 838 non-null    float64\n",
            " 8   MntFruits                838 non-null    float64\n",
            " 9   MntMeatProducts          838 non-null    float64\n",
            " 10  MntFishProducts          838 non-null    float64\n",
            " 11  MntSweetProducts         838 non-null    float64\n",
            " 12  MntGoldProds             838 non-null    float64\n",
            " 13  NumDealsPurchases        838 non-null    float64\n",
            " 14  NumWebPurchases          838 non-null    float64\n",
            " 15  NumCatalogPurchases      838 non-null    float64\n",
            " 16  NumStorePurchases        838 non-null    float64\n",
            " 17  NumWebVisitsMonth        838 non-null    float64\n",
            " 18  AcceptedCmp3             838 non-null    float64\n",
            " 19  AcceptedCmp4             838 non-null    float64\n",
            " 20  AcceptedCmp5             838 non-null    float64\n",
            " 21  AcceptedCmp1             838 non-null    float64\n",
            " 22  AcceptedCmp2             838 non-null    float64\n",
            " 23  Complain                 838 non-null    float64\n",
            " 24  Z_CostContact            838 non-null    float64\n",
            " 25  Z_Revenue                838 non-null    float64\n",
            " 26  Response                 838 non-null    float64\n",
            " 27  Year                     838 non-null    int64  \n",
            " 28  Month                    838 non-null    int64  \n",
            " 29  Education_Basic          838 non-null    bool   \n",
            " 30  Education_Graduation     838 non-null    bool   \n",
            " 31  Education_Master         838 non-null    bool   \n",
            " 32  Education_PhD            838 non-null    bool   \n",
            " 33  Marital_Status_Divorced  838 non-null    bool   \n",
            " 34  Marital_Status_Married   838 non-null    bool   \n",
            " 35  Marital_Status_Single    838 non-null    bool   \n",
            " 36  Marital_Status_Together  838 non-null    bool   \n",
            " 37  Marital_Status_Widow     838 non-null    bool   \n",
            " 38  Cluster                  838 non-null    int64  \n",
            " 39  PCA1                     838 non-null    float64\n",
            " 40  PCA2                     838 non-null    float64\n",
            "dtypes: bool(9), float64(28), int64(3), object(1)\n",
            "memory usage: 217.0+ KB\n"
          ]
        }
      ]
    },
    {
      "cell_type": "markdown",
      "source": [
        "# **3. Data Splitting**"
      ],
      "metadata": {
        "id": "KkPem5eWL2UP"
      }
    },
    {
      "cell_type": "markdown",
      "source": [
        "Tahap Data Splitting bertujuan untuk memisahkan dataset menjadi dua bagian: data latih (training set) dan data uji (test set)."
      ],
      "metadata": {
        "id": "YYj1rl_JNI9Y"
      }
    },
    {
      "cell_type": "code",
      "source": [
        "from sklearn.model_selection import train_test_split\n",
        "\n",
        "# Pisahkan fitur (X) dan target (y)\n",
        "X = data.drop(columns=['Cluster'])  # Semua kolom kecuali 'Cluster'\n",
        "y = data['Cluster']  # Kolom target\n",
        "\n",
        "# Bagi data menjadi data latih dan data uji\n",
        "X_train, X_test, y_train, y_test = train_test_split(X, y, test_size=0.2, random_state=42, stratify=y)\n",
        "\n",
        "# Verifikasi ukuran dataset\n",
        "print(f\"Ukuran Data Latih: {X_train.shape}\")\n",
        "print(f\"Ukuran Data Uji: {X_test.shape}\")\n"
      ],
      "metadata": {
        "id": "OubAW-7ONKVj",
        "colab": {
          "base_uri": "https://localhost:8080/"
        },
        "outputId": "117b4118-2ce4-447d-abc5-6a0bf5625006"
      },
      "execution_count": 17,
      "outputs": [
        {
          "output_type": "stream",
          "name": "stdout",
          "text": [
            "Ukuran Data Latih: (670, 40)\n",
            "Ukuran Data Uji: (168, 40)\n"
          ]
        }
      ]
    },
    {
      "cell_type": "markdown",
      "source": [
        "# **4. Membangun Model Klasifikasi**\n"
      ],
      "metadata": {
        "id": "IVPbB03CMhTT"
      }
    },
    {
      "cell_type": "markdown",
      "source": [
        "## **a. Membangun Model Klasifikasi**"
      ],
      "metadata": {
        "id": "Ned1pL9zMmBK"
      }
    },
    {
      "cell_type": "markdown",
      "source": [
        "Setelah memilih algoritma klasifikasi yang sesuai, langkah selanjutnya adalah melatih model menggunakan data latih.\n",
        "\n",
        "Berikut adalah rekomendasi tahapannya.\n",
        "1. Pilih algoritma klasifikasi yang sesuai, seperti Logistic Regression, Decision Tree, Random Forest, atau K-Nearest Neighbors (KNN).\n",
        "2. Latih model menggunakan data latih."
      ],
      "metadata": {
        "id": "WAWzPOE4Nkti"
      }
    },
    {
      "cell_type": "code",
      "source": [
        "from sklearn.tree import DecisionTreeClassifier\n",
        "from sklearn.metrics import classification_report, accuracy_score\n",
        "\n",
        "# Pastikan kolom tanggal diubah menjadi numerik\n",
        "if 'Dt_Customer' in X.columns:\n",
        "    X['Dt_Customer'] = pd.to_datetime(X['Dt_Customer'], errors='coerce')\n",
        "    X['Dt_Customer'] = (X['Dt_Customer'] - X['Dt_Customer'].min()).dt.days\n",
        "\n",
        "# Hapus kolom non-numerik lainnya jika ada\n",
        "X = X.select_dtypes(include=['int64', 'float64'])\n",
        "\n",
        "# Split data menjadi data latih dan uji\n",
        "X_train, X_test, y_train, y_test = train_test_split(X, y, test_size=0.2, random_state=42, stratify=y)\n",
        "\n",
        "# Model Decision Tree\n",
        "dt_model = DecisionTreeClassifier(random_state=42, max_depth=5)\n",
        "dt_model.fit(X_train, y_train)\n",
        "\n",
        "# Prediksi dan evaluasi\n",
        "y_pred_dt = dt_model.predict(X_test)\n",
        "\n",
        "print(\"Classification Report - Decision Tree:\")\n",
        "print(classification_report(y_test, y_pred_dt))\n",
        "print(f\"Accuracy Decision Tree: {accuracy_score(y_test, y_pred_dt):.2f}\")\n"
      ],
      "metadata": {
        "id": "4JYxBe87NLDk",
        "colab": {
          "base_uri": "https://localhost:8080/"
        },
        "outputId": "dcf4f1c5-bc1c-4b60-d128-e24b72ff01bc"
      },
      "execution_count": 19,
      "outputs": [
        {
          "output_type": "stream",
          "name": "stdout",
          "text": [
            "Classification Report - Decision Tree:\n",
            "              precision    recall  f1-score   support\n",
            "\n",
            "           0       1.00      1.00      1.00        54\n",
            "           1       1.00      1.00      1.00        79\n",
            "           2       1.00      1.00      1.00        35\n",
            "\n",
            "    accuracy                           1.00       168\n",
            "   macro avg       1.00      1.00      1.00       168\n",
            "weighted avg       1.00      1.00      1.00       168\n",
            "\n",
            "Accuracy Decision Tree: 1.00\n"
          ]
        }
      ]
    },
    {
      "cell_type": "code",
      "source": [
        "from sklearn.linear_model import LogisticRegression\n",
        "from sklearn.metrics import classification_report, accuracy_score\n",
        "from sklearn.preprocessing import StandardScaler\n",
        "\n",
        "# Skalakan data\n",
        "scaler = StandardScaler()\n",
        "X_train_scaled = scaler.fit_transform(X_train)\n",
        "X_test_scaled = scaler.transform(X_test)\n",
        "\n",
        "# Logistic Regression dengan solver alternatif dan iterasi lebih tinggi\n",
        "lr_model = LogisticRegression(random_state=42, max_iter=1000, solver='saga')\n",
        "lr_model.fit(X_train_scaled, y_train)\n",
        "\n",
        "# Prediksi dan evaluasi\n",
        "y_pred_lr = lr_model.predict(X_test_scaled)\n",
        "\n",
        "print(\"Classification Report - Logistic Regression:\")\n",
        "print(classification_report(y_test, y_pred_lr))\n",
        "print(f\"Accuracy Logistic Regression: {accuracy_score(y_test, y_pred_lr):.2f}\")\n"
      ],
      "metadata": {
        "colab": {
          "base_uri": "https://localhost:8080/"
        },
        "id": "2brDEqBDAByx",
        "outputId": "34787cc9-f9f6-4a7a-a614-ca4e53ae3dcd"
      },
      "execution_count": 21,
      "outputs": [
        {
          "output_type": "stream",
          "name": "stdout",
          "text": [
            "Classification Report - Logistic Regression:\n",
            "              precision    recall  f1-score   support\n",
            "\n",
            "           0       1.00      1.00      1.00        54\n",
            "           1       1.00      1.00      1.00        79\n",
            "           2       1.00      1.00      1.00        35\n",
            "\n",
            "    accuracy                           1.00       168\n",
            "   macro avg       1.00      1.00      1.00       168\n",
            "weighted avg       1.00      1.00      1.00       168\n",
            "\n",
            "Accuracy Logistic Regression: 1.00\n"
          ]
        }
      ]
    },
    {
      "cell_type": "markdown",
      "source": [
        "Tulis narasi atau penjelasan algoritma yang Anda gunakan."
      ],
      "metadata": {
        "id": "seYoHNY3XU1y"
      }
    },
    {
      "cell_type": "markdown",
      "source": [
        "## **b. Evaluasi Model Klasifikasi**"
      ],
      "metadata": {
        "id": "ergzChZFEL-O"
      }
    },
    {
      "cell_type": "markdown",
      "source": [
        "Berikut adalah **rekomendasi** tahapannya.\n",
        "1. Lakukan prediksi menggunakan data uji.\n",
        "2. Hitung metrik evaluasi seperti Accuracy dan F1-Score (Opsional: Precision dan Recall).\n",
        "3. Buat confusion matrix untuk melihat detail prediksi benar dan salah."
      ],
      "metadata": {
        "id": "zOm68u-7NpLT"
      }
    },
    {
      "cell_type": "code",
      "source": [
        "# Prediksi menggunakan Logistic Regression\n",
        "y_pred_lr = lr_model.predict(X_test_scaled)\n",
        "\n",
        "# Prediksi menggunakan Decision Tree (jika ada)\n",
        "y_pred_dt = dt_model.predict(X_test)\n"
      ],
      "metadata": {
        "id": "kqSgs5w7Ak69"
      },
      "execution_count": 22,
      "outputs": []
    },
    {
      "cell_type": "code",
      "source": [
        "from sklearn.metrics import classification_report, accuracy_score\n",
        "\n",
        "# Evaluasi Logistic Regression\n",
        "print(\"Classification Report - Logistic Regression:\")\n",
        "print(classification_report(y_test, y_pred_lr))\n",
        "print(f\"Accuracy Logistic Regression: {accuracy_score(y_test, y_pred_lr):.2f}\")\n",
        "\n",
        "# Evaluasi Decision Tree\n",
        "print(\"\\nClassification Report - Decision Tree:\")\n",
        "print(classification_report(y_test, y_pred_dt))\n",
        "print(f\"Accuracy Decision Tree: {accuracy_score(y_test, y_pred_dt):.2f}\")\n"
      ],
      "metadata": {
        "colab": {
          "base_uri": "https://localhost:8080/"
        },
        "id": "8wV_6BDMApje",
        "outputId": "2696c3e2-f892-48ef-84a2-d738d85e09fd"
      },
      "execution_count": 23,
      "outputs": [
        {
          "output_type": "stream",
          "name": "stdout",
          "text": [
            "Classification Report - Logistic Regression:\n",
            "              precision    recall  f1-score   support\n",
            "\n",
            "           0       1.00      1.00      1.00        54\n",
            "           1       1.00      1.00      1.00        79\n",
            "           2       1.00      1.00      1.00        35\n",
            "\n",
            "    accuracy                           1.00       168\n",
            "   macro avg       1.00      1.00      1.00       168\n",
            "weighted avg       1.00      1.00      1.00       168\n",
            "\n",
            "Accuracy Logistic Regression: 1.00\n",
            "\n",
            "Classification Report - Decision Tree:\n",
            "              precision    recall  f1-score   support\n",
            "\n",
            "           0       1.00      1.00      1.00        54\n",
            "           1       1.00      1.00      1.00        79\n",
            "           2       1.00      1.00      1.00        35\n",
            "\n",
            "    accuracy                           1.00       168\n",
            "   macro avg       1.00      1.00      1.00       168\n",
            "weighted avg       1.00      1.00      1.00       168\n",
            "\n",
            "Accuracy Decision Tree: 1.00\n"
          ]
        }
      ]
    },
    {
      "cell_type": "code",
      "source": [
        "from sklearn.metrics import confusion_matrix, ConfusionMatrixDisplay\n",
        "import matplotlib.pyplot as plt\n",
        "\n",
        "# Confusion Matrix Logistic Regression\n",
        "conf_matrix_lr = confusion_matrix(y_test, y_pred_lr)\n",
        "disp_lr = ConfusionMatrixDisplay(confusion_matrix=conf_matrix_lr, display_labels=lr_model.classes_)\n",
        "disp_lr.plot(cmap='Blues', values_format='d')\n",
        "plt.title(\"Confusion Matrix - Logistic Regression\")\n",
        "plt.show()\n",
        "\n",
        "# Confusion Matrix Decision Tree\n",
        "conf_matrix_dt = confusion_matrix(y_test, y_pred_dt)\n",
        "disp_dt = ConfusionMatrixDisplay(confusion_matrix=conf_matrix_dt, display_labels=dt_model.classes_)\n",
        "disp_dt.plot(cmap='Blues', values_format='d')\n",
        "plt.title(\"Confusion Matrix - Decision Tree\")\n",
        "plt.show()\n"
      ],
      "metadata": {
        "colab": {
          "base_uri": "https://localhost:8080/",
          "height": 927
        },
        "id": "MR2KwG0vAuVN",
        "outputId": "3b30d389-fcb0-4c44-d1bc-96856caae5e2"
      },
      "execution_count": 25,
      "outputs": [
        {
          "output_type": "display_data",
          "data": {
            "text/plain": [
              "<Figure size 640x480 with 2 Axes>"
            ],
            "image/png": "[encoded data removed]"
          },
          "metadata": {}
        },
        {
          "output_type": "display_data",
          "data": {
            "text/plain": [
              "<Figure size 640x480 with 2 Axes>"
            ],
            "image/png": "[encoded data removed]"
          },
          "metadata": {}
        }
      ]
    },
    {
      "cell_type": "markdown",
      "source": [
        "Potensi Masalah\n",
        "Akurasi yang sempurna biasanya mengindikasikan salah satu dari beberapa hal berikut:\n",
        "\n",
        "Dataset terlalu sederhana atau data sudah terpisah dengan sangat baik.\n",
        "\n",
        "Semua fitur mungkin memiliki hubungan linear yang jelas dengan target, sehingga model dapat memprediksi dengan sangat mudah.\n",
        "Overfitting pada dataset.\n",
        "\n",
        "Jika dataset terlalu kecil atau data uji berasal dari distribusi yang sangat mirip dengan data latih, model dapat dengan mudah menghafal pola tanpa generalisasi.\n",
        "Kurangnya variabilitas dalam data.\n",
        "\n",
        "Data mungkin kurang kompleks atau terlalu bersih, sehingga model tidak diuji untuk menangani data yang lebih bervariasi."
      ],
      "metadata": {
        "id": "H4_9OwrsXZlz"
      }
    },
    {
      "cell_type": "markdown",
      "source": [
        "Rekomendasi untuk Analisis Lanjutan\n",
        "1. Periksa Dataset\n",
        "Tinjau kembali apakah dataset mencerminkan kasus nyata dan memiliki kompleksitas yang memadai.\n",
        "Periksa distribusi fitur dan target (label) untuk memastikan ada keragaman.\n",
        "2. Gunakan Cross-Validation\n",
        "Lakukan evaluasi dengan teknik K-Fold Cross-Validation untuk memeriksa konsistensi performa model pada berbagai subset data."
      ],
      "metadata": {
        "id": "a1mixCDLBbXZ"
      }
    },
    {
      "cell_type": "code",
      "source": [
        "from sklearn.model_selection import cross_val_score\n",
        "\n",
        "# Cross-validation Logistic Regression\n",
        "cv_scores_lr = cross_val_score(lr_model, X, y, cv=5)\n",
        "print(f\"Cross-Validation Scores (Logistic Regression): {cv_scores_lr}\")\n",
        "print(f\"Mean Accuracy Logistic Regression: {cv_scores_lr.mean():.2f}\")\n",
        "\n",
        "# Cross-validation Decision Tree\n",
        "cv_scores_dt = cross_val_score(dt_model, X, y, cv=5)\n",
        "print(f\"Cross-Validation Scores (Decision Tree): {cv_scores_dt}\")\n",
        "print(f\"Mean Accuracy Decision Tree: {cv_scores_dt.mean():.2f}\")\n"
      ],
      "metadata": {
        "colab": {
          "base_uri": "https://localhost:8080/"
        },
        "id": "FAnVnQ7qBiDx",
        "outputId": "f4333b5b-0f1e-4aa1-be9d-50317cff8acf"
      },
      "execution_count": 26,
      "outputs": [
        {
          "output_type": "stream",
          "name": "stderr",
          "text": [
            "/usr/local/lib/python3.10/dist-packages/sklearn/linear_model/_sag.py:349: ConvergenceWarning: The max_iter was reached which means the coef_ did not converge\n",
            "  warnings.warn(\n",
            "/usr/local/lib/python3.10/dist-packages/sklearn/linear_model/_sag.py:349: ConvergenceWarning: The max_iter was reached which means the coef_ did not converge\n",
            "  warnings.warn(\n",
            "/usr/local/lib/python3.10/dist-packages/sklearn/linear_model/_sag.py:349: ConvergenceWarning: The max_iter was reached which means the coef_ did not converge\n",
            "  warnings.warn(\n",
            "/usr/local/lib/python3.10/dist-packages/sklearn/linear_model/_sag.py:349: ConvergenceWarning: The max_iter was reached which means the coef_ did not converge\n",
            "  warnings.warn(\n"
          ]
        },
        {
          "output_type": "stream",
          "name": "stdout",
          "text": [
            "Cross-Validation Scores (Logistic Regression): [0.70833333 0.67857143 0.69642857 0.68263473 0.70658683]\n",
            "Mean Accuracy Logistic Regression: 0.69\n",
            "Cross-Validation Scores (Decision Tree): [1.         1.         1.         0.99401198 0.98802395]\n",
            "Mean Accuracy Decision Tree: 1.00\n"
          ]
        },
        {
          "output_type": "stream",
          "name": "stderr",
          "text": [
            "/usr/local/lib/python3.10/dist-packages/sklearn/linear_model/_sag.py:349: ConvergenceWarning: The max_iter was reached which means the coef_ did not converge\n",
            "  warnings.warn(\n"
          ]
        }
      ]
    },
    {
      "cell_type": "markdown",
      "source": [
        "Pesan ConvergenceWarning yang muncul saat melakukan cross-validation pada Logistic Regression menunjukkan bahwa solver tidak berhasil menemukan konvergensi dalam jumlah iterasi yang ditentukan (max_iter). Ini dapat terjadi karena:\n",
        "\n",
        "Data tidak diskalakan dengan baik.\n",
        "Jumlah iterasi (max_iter) terlalu kecil.\n",
        "Solver yang digunakan tidak optimal untuk dataset tertentu.\n"
      ],
      "metadata": {
        "id": "vHP2wFvZB2CI"
      }
    },
    {
      "cell_type": "code",
      "source": [
        "from sklearn.linear_model import LogisticRegression\n",
        "from sklearn.preprocessing import StandardScaler\n",
        "from sklearn.model_selection import cross_val_score\n",
        "\n",
        "# Skalakan data\n",
        "scaler = StandardScaler()\n",
        "X_scaled = scaler.fit_transform(X)\n",
        "\n",
        "# Model Logistic Regression dengan iterasi lebih tinggi dan solver alternatif\n",
        "lr_model = LogisticRegression(random_state=42, max_iter=5000, solver='saga')\n",
        "\n",
        "# Cross-validation Logistic Regression\n",
        "cv_scores_lr = cross_val_score(lr_model, X_scaled, y, cv=5)\n",
        "print(f\"Cross-Validation Scores (Logistic Regression): {cv_scores_lr}\")\n",
        "print(f\"Mean Accuracy Logistic Regression: {cv_scores_lr.mean():.2f}\")\n"
      ],
      "metadata": {
        "colab": {
          "base_uri": "https://localhost:8080/"
        },
        "id": "jUsZjnKcB-yj",
        "outputId": "1255746c-832d-4082-94b4-2a23634baf50"
      },
      "execution_count": 27,
      "outputs": [
        {
          "output_type": "stream",
          "name": "stdout",
          "text": [
            "Cross-Validation Scores (Logistic Regression): [1.         0.99404762 1.         1.         0.98802395]\n",
            "Mean Accuracy Logistic Regression: 1.00\n"
          ]
        }
      ]
    },
    {
      "cell_type": "markdown",
      "source": [
        "Cross-Validation Scores:\n",
        "\n",
        "Nilai ini menunjukkan akurasi model pada masing-masing fold (subset data) selama proses k-fold cross-validation\n",
        "\n",
        "1.00: Model memprediksi semua data dengan benar pada fold ke-1, ke-3, dan ke-4.\n",
        "0.99404762: Akurasi pada fold ke-2 adalah 99.40%.\n",
        "0.98802395: Akurasi pada fold ke-5 adalah 98.80%.\n"
      ],
      "metadata": {
        "id": "uZNOrHjFCPNQ"
      }
    },
    {
      "cell_type": "markdown",
      "source": [
        "Mean Accuracy Logistic Regression: 1.00 berarti rata-rata akurasi dari semua fold adalah 100% (atau hampir 100% dengan pembulatan).\n",
        "\n",
        "mean_accuracy = (1 + 0.99404762 + 1 + 1 + 0.98802395) / 5\n",
        "\n",
        "Mean Accuracy = 0.996814714\n"
      ],
      "metadata": {
        "id": "OgnKV0gOCYZD"
      }
    },
    {
      "cell_type": "markdown",
      "source": [
        "Model Sempurna atau Hampir Sempurna:\n",
        "\n",
        "Model Logistic Regression Anda memiliki akurasi sangat tinggi pada seluruh subset data selama cross-validation.\n",
        "Kinerja yang Konsisten:\n",
        "\n",
        "Tidak ada fold dengan nilai akurasi yang terlalu rendah, menunjukkan model memiliki kinerja yang konsisten di seluruh dataset.\n",
        "Potensi Masalah Overfitting:\n",
        "\n",
        "Jika dataset terlalu sederhana atau tidak mencerminkan kompleksitas data di dunia nyata, model mungkin overfitting (yaitu, belajar menghafal pola pada dataset alih-alih generalisasi)."
      ],
      "metadata": {
        "id": "cgadKEgpCiUq"
      }
    },
    {
      "cell_type": "markdown",
      "source": [
        "## **c. Tuning Model Klasifikasi (Optional)**"
      ],
      "metadata": {
        "id": "ph9yIYDXEPuB"
      }
    },
    {
      "cell_type": "markdown",
      "source": [
        "Gunakan GridSearchCV, RandomizedSearchCV, atau metode lainnya untuk mencari kombinasi hyperparameter terbaik"
      ],
      "metadata": {
        "id": "-Bikx3LINv5e"
      }
    },
    {
      "cell_type": "code",
      "source": [
        "from sklearn.model_selection import GridSearchCV\n",
        "from sklearn.linear_model import LogisticRegression\n",
        "\n",
        "# Parameter yang akan diuji\n",
        "param_grid = {\n",
        "    'solver': ['lbfgs', 'saga'],\n",
        "    'penalty': ['l2'],  # L2 regularization\n",
        "    'C': [0.01, 0.1, 1, 10]  # Regularization strength\n",
        "}\n",
        "\n",
        "# Model Logistic Regression\n",
        "lr_model = LogisticRegression(max_iter=5000, random_state=42)\n",
        "\n",
        "# GridSearchCV\n",
        "grid_search = GridSearchCV(estimator=lr_model, param_grid=param_grid, cv=5, scoring='accuracy', verbose=1)\n",
        "grid_search.fit(X_scaled, y)\n",
        "\n",
        "# Hasil terbaik\n",
        "print(f\"Best Parameters: {grid_search.best_params_}\")\n",
        "print(f\"Best Accuracy: {grid_search.best_score_:.2f}\")\n"
      ],
      "metadata": {
        "id": "winbFzb8NL95",
        "colab": {
          "base_uri": "https://localhost:8080/"
        },
        "outputId": "09a455d2-e184-40a9-fd6f-de582f4864d6"
      },
      "execution_count": 28,
      "outputs": [
        {
          "output_type": "stream",
          "name": "stdout",
          "text": [
            "Fitting 5 folds for each of 8 candidates, totalling 40 fits\n",
            "Best Parameters: {'C': 0.1, 'penalty': 'l2', 'solver': 'lbfgs'}\n",
            "Best Accuracy: 1.00\n"
          ]
        }
      ]
    },
    {
      "cell_type": "code",
      "source": [
        "from sklearn.model_selection import RandomizedSearchCV\n",
        "from sklearn.ensemble import RandomForestClassifier\n",
        "import numpy as np\n",
        "\n",
        "# Parameter yang akan diuji\n",
        "param_dist = {\n",
        "    'n_estimators': [50, 100, 200],\n",
        "    'max_depth': [None, 10, 20, 30],\n",
        "    'min_samples_split': [2, 5, 10],\n",
        "    'min_samples_leaf': [1, 2, 4],\n",
        "    'bootstrap': [True, False]\n",
        "}\n",
        "\n",
        "# Model Random Forest\n",
        "rf_model = RandomForestClassifier(random_state=42)\n",
        "\n",
        "# RandomizedSearchCV\n",
        "random_search = RandomizedSearchCV(estimator=rf_model, param_distributions=param_dist,\n",
        "                                   n_iter=50, cv=5, scoring='accuracy', verbose=1, random_state=42)\n",
        "random_search.fit(X, y)\n",
        "\n",
        "# Hasil terbaik\n",
        "print(f\"Best Parameters: {random_search.best_params_}\")\n",
        "print(f\"Best Accuracy: {random_search.best_score_:.2f}\")\n"
      ],
      "metadata": {
        "colab": {
          "base_uri": "https://localhost:8080/"
        },
        "id": "JIJPp9bDC4F5",
        "outputId": "e9c30c10-06b1-4b8e-f4be-d697709d0110"
      },
      "execution_count": 29,
      "outputs": [
        {
          "output_type": "stream",
          "name": "stdout",
          "text": [
            "Fitting 5 folds for each of 50 candidates, totalling 250 fits\n",
            "Best Parameters: {'n_estimators': 50, 'min_samples_split': 5, 'min_samples_leaf': 1, 'max_depth': 10, 'bootstrap': False}\n",
            "Best Accuracy: 1.00\n"
          ]
        },
        {
          "output_type": "stream",
          "name": "stderr",
          "text": [
            "/usr/local/lib/python3.10/dist-packages/numpy/ma/core.py:2820: RuntimeWarning: invalid value encountered in cast\n",
            "  _data = np.array(data, dtype=dtype, copy=copy,\n"
          ]
        }
      ]
    },
    {
      "cell_type": "code",
      "source": [
        "print(\"Jumlah NaN di Dataset:\", X.isnull().sum().sum())\n",
        "print(\"Ada nilai inf di Dataset:\", np.isinf(X).values.any())\n"
      ],
      "metadata": {
        "colab": {
          "base_uri": "https://localhost:8080/"
        },
        "id": "VzIAYOzYDdbJ",
        "outputId": "fe4f8eb9-3ee9-4d99-afb5-bfbed79ac3c6"
      },
      "execution_count": 30,
      "outputs": [
        {
          "output_type": "stream",
          "name": "stdout",
          "text": [
            "Jumlah NaN di Dataset: 0\n",
            "Ada nilai inf di Dataset: False\n"
          ]
        }
      ]
    },
    {
      "cell_type": "code",
      "source": [
        "# Mengganti NaN dengan nilai rata-rata kolom\n",
        "X.fillna(X.mean(), inplace=True)\n",
        "\n",
        "# Mengganti nilai inf dengan nilai maksimum/terbesar\n",
        "X.replace([np.inf, -np.inf], np.nan, inplace=True)\n",
        "X.fillna(X.mean(), inplace=True)\n"
      ],
      "metadata": {
        "id": "hGL8OjbdDjN-"
      },
      "execution_count": 31,
      "outputs": []
    },
    {
      "cell_type": "code",
      "source": [
        "rf_best_model = RandomForestClassifier(\n",
        "    n_estimators=50,\n",
        "    min_samples_split=5,\n",
        "    min_samples_leaf=1,\n",
        "    max_depth=10,\n",
        "    bootstrap=False,\n",
        "    random_state=42\n",
        ")\n",
        "rf_best_model.fit(X_train, y_train)\n",
        "\n",
        "# Evaluasi ulang pada data uji\n",
        "y_pred_best = rf_best_model.predict(X_test)\n",
        "print(\"Classification Report - Tuned Random Forest:\")\n",
        "print(classification_report(y_test, y_pred_best))\n"
      ],
      "metadata": {
        "colab": {
          "base_uri": "https://localhost:8080/"
        },
        "id": "xLFRiwk2DnVw",
        "outputId": "cb07c4d0-86ff-4a82-d9f9-2db825944ac3"
      },
      "execution_count": 32,
      "outputs": [
        {
          "output_type": "stream",
          "name": "stdout",
          "text": [
            "Classification Report - Tuned Random Forest:\n",
            "              precision    recall  f1-score   support\n",
            "\n",
            "           0       1.00      1.00      1.00        54\n",
            "           1       1.00      1.00      1.00        79\n",
            "           2       1.00      1.00      1.00        35\n",
            "\n",
            "    accuracy                           1.00       168\n",
            "   macro avg       1.00      1.00      1.00       168\n",
            "weighted avg       1.00      1.00      1.00       168\n",
            "\n"
          ]
        }
      ]
    },
    {
      "cell_type": "markdown",
      "source": [
        "## **d. Evaluasi Model Klasifikasi setelah Tuning (Optional)**"
      ],
      "metadata": {
        "id": "hE7pqlEPEYzI"
      }
    },
    {
      "cell_type": "markdown",
      "source": [
        "Berikut adalah rekomendasi tahapannya.\n",
        "1. Gunakan model dengan hyperparameter terbaik.\n",
        "2. Hitung ulang metrik evaluasi untuk melihat apakah ada peningkatan performa."
      ],
      "metadata": {
        "id": "feaPESoeN0zz"
      }
    },
    {
      "cell_type": "code",
      "source": [
        "from sklearn.metrics import classification_report, confusion_matrix, ConfusionMatrixDisplay, accuracy_score\n",
        "\n",
        "# Gunakan model dengan hyperparameter terbaik\n",
        "rf_best_model = RandomForestClassifier(\n",
        "    n_estimators=random_search.best_params_['n_estimators'],\n",
        "    min_samples_split=random_search.best_params_['min_samples_split'],\n",
        "    min_samples_leaf=random_search.best_params_['min_samples_leaf'],\n",
        "    max_depth=random_search.best_params_['max_depth'],\n",
        "    bootstrap=random_search.best_params_['bootstrap'],\n",
        "    random_state=42\n",
        ")\n",
        "\n",
        "# Latih model terbaik pada data latih\n",
        "rf_best_model.fit(X_train, y_train)\n",
        "\n",
        "# Prediksi menggunakan data uji\n",
        "y_pred_best = rf_best_model.predict(X_test)\n",
        "\n",
        "# Evaluasi metrik\n",
        "print(\"Classification Report - Tuned Random Forest:\")\n",
        "print(classification_report(y_test, y_pred_best))\n",
        "\n",
        "# Akurasi\n",
        "accuracy_tuned = accuracy_score(y_test, y_pred_best)\n",
        "print(f\"Accuracy (Tuned Random Forest): {accuracy_tuned:.2f}\")\n",
        "\n",
        "# Confusion Matrix\n",
        "conf_matrix_best = confusion_matrix(y_test, y_pred_best)\n",
        "disp_best = ConfusionMatrixDisplay(confusion_matrix=conf_matrix_best, display_labels=rf_best_model.classes_)\n",
        "disp_best.plot(cmap='Blues', values_format='d')\n",
        "plt.title(\"Confusion Matrix - Tuned Random Forest\")\n",
        "plt.show()\n"
      ],
      "metadata": {
        "id": "HTXZRvEeNMb1",
        "colab": {
          "base_uri": "https://localhost:8080/",
          "height": 693
        },
        "outputId": "63af12a7-5706-4aaf-a1f0-6956e7194117"
      },
      "execution_count": 33,
      "outputs": [
        {
          "output_type": "stream",
          "name": "stdout",
          "text": [
            "Classification Report - Tuned Random Forest:\n",
            "              precision    recall  f1-score   support\n",
            "\n",
            "           0       1.00      1.00      1.00        54\n",
            "           1       1.00      1.00      1.00        79\n",
            "           2       1.00      1.00      1.00        35\n",
            "\n",
            "    accuracy                           1.00       168\n",
            "   macro avg       1.00      1.00      1.00       168\n",
            "weighted avg       1.00      1.00      1.00       168\n",
            "\n",
            "Accuracy (Tuned Random Forest): 1.00\n"
          ]
        },
        {
          "output_type": "display_data",
          "data": {
            "text/plain": [
              "<Figure size 640x480 with 2 Axes>"
            ],
            "image/png": "[encoded data removed]"
          },
          "metadata": {}
        }
      ]
    },
    {
      "cell_type": "markdown",
      "source": [
        "## **e. Analisis Hasil Evaluasi Model Klasifikasi**"
      ],
      "metadata": {
        "id": "ZRsOdm4uEgAW"
      }
    },
    {
      "cell_type": "markdown",
      "source": [
        "Hasil evaluasi menunjukkan bahwa model Random Forest yang telah dituning dengan hyperparameter terbaik menghasilkan performa sempurna dengan akurasi 100% dan metrik precision, recall, F1-score masing-masing juga 1.00 pada data uji.\n",
        "\n",
        "--------------------------------------------\n",
        "Analisis Hasil\n",
        "Akurasi Sempurna (100%):\n",
        "\n",
        "Model berhasil memprediksi semua sampel dalam data uji dengan benar. Ini ditunjukkan oleh nilai akurasi yang mencapai 1.00.\n",
        "Hasil ini mungkin menunjukkan bahwa dataset terlalu sederhana atau model telah mempelajari pola dengan sangat baik karena data memiliki hubungan yang jelas.\n",
        "Metrik Evaluasi Lain:\n",
        "\n",
        "Precision, Recall, dan F1-Score semuanya bernilai 1.00, artinya model tidak membuat kesalahan prediksi dalam setiap kelas (0, 1, 2).\n",
        "\n",
        "\n",
        "-------------------------------------------------\n",
        "Rekomendasi untuk Validasi Tambahan\n",
        "1. Uji dengan Data Baru (Unseen Data)\n",
        "Cobalah menguji model Anda pada dataset yang benar-benar baru, yang tidak digunakan dalam proses pelatihan maupun evaluasi sebelumnya, untuk memvalidasi kemampuan model dalam generalisasi.\n",
        "\n",
        "2. Periksa Keseimbangan Dataset\n",
        "Periksa apakah dataset memiliki distribusi kelas yang seimbang atau tidak, karena ketidakseimbangan dapat membuat model terlihat lebih akurat dari yang sebenarnya.\n",
        "\n",
        "print(\"Distribusi Kelas:\")\n",
        "print(y.value_counts())\n",
        "\n",
        "----\n",
        "Kesimpulan\n",
        "Model yang telah dituning bekerja dengan sangat baik pada dataset saat ini, tetapi Anda perlu memvalidasi apakah model dapat menangani data baru atau data dengan noise.\n",
        "Hasil ini dapat digunakan sebagai baseline, tetapi perlu diuji lebih lanjut untuk memastikan bahwa model tidak hanya bekerja pada dataset ini saja.\n",
        "--------------------------------\n",
        "\n"
      ],
      "metadata": {
        "id": "Hm3BhSi6N4_l"
      }
    }
  ]
}